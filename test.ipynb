{
 "cells": [
  {
   "cell_type": "code",
   "execution_count": 8,
   "metadata": {},
   "outputs": [
    {
     "data": {
      "application/javascript": "\n                        document.getElementById('select-DEM').onclick = function() {\n                            const input = document.createElement('input');\n                            input.type = 'file';\n                            input.onchange = function(e) {\n                                const file = e.target.files[0];\n                                if (file) {\n                                    document.getElementById('file-path-DEM').value = file.name;\n                                }\n                            };\n                            input.click();\n                        };\n                    ",
      "text/plain": [
       "<IPython.core.display.Javascript object>"
      ]
     },
     "metadata": {},
     "output_type": "display_data"
    },
    {
     "data": {
      "application/javascript": "\n                        document.getElementById('select-MaskShape').onclick = function() {\n                            const input = document.createElement('input');\n                            input.type = 'file';\n                            input.onchange = function(e) {\n                                const file = e.target.files[0];\n                                if (file) {\n                                    document.getElementById('file-path-MaskShape').value = file.name;\n                                }\n                            };\n                            input.click();\n                        };\n                    ",
      "text/plain": [
       "<IPython.core.display.Javascript object>"
      ]
     },
     "metadata": {},
     "output_type": "display_data"
    },
    {
     "data": {
      "application/javascript": "\n                        document.getElementById('select-ThresholdValue').onclick = function() {\n                            const input = document.createElement('input');\n                            input.type = 'file';\n                            input.onchange = function(e) {\n                                const file = e.target.files[0];\n                                if (file) {\n                                    document.getElementById('file-path-ThresholdValue').value = file.name;\n                                }\n                            };\n                            input.click();\n                        };\n                    ",
      "text/plain": [
       "<IPython.core.display.Javascript object>"
      ]
     },
     "metadata": {},
     "output_type": "display_data"
    },
    {
     "data": {
      "application/javascript": "\n                        document.getElementById('select-OriginalOutletShape').onclick = function() {\n                            const input = document.createElement('input');\n                            input.type = 'file';\n                            input.onchange = function(e) {\n                                const file = e.target.files[0];\n                                if (file) {\n                                    document.getElementById('file-path-OriginalOutletShape').value = file.name;\n                                }\n                            };\n                            input.click();\n                        };\n                    ",
      "text/plain": [
       "<IPython.core.display.Javascript object>"
      ]
     },
     "metadata": {},
     "output_type": "display_data"
    },
    {
     "data": {
      "application/javascript": "\n                        document.getElementById('select-SnapThresholdValue').onclick = function() {\n                            const input = document.createElement('input');\n                            input.type = 'file';\n                            input.onchange = function(e) {\n                                const file = e.target.files[0];\n                                if (file) {\n                                    document.getElementById('file-path-SnapThresholdValue').value = file.name;\n                                }\n                            };\n                            input.click();\n                        };\n                    ",
      "text/plain": [
       "<IPython.core.display.Javascript object>"
      ]
     },
     "metadata": {},
     "output_type": "display_data"
    },
    {
     "data": {
      "application/javascript": "\n                        document.getElementById('select-Landuse').onclick = function() {\n                            const input = document.createElement('input');\n                            input.type = 'file';\n                            input.onchange = function(e) {\n                                const file = e.target.files[0];\n                                if (file) {\n                                    document.getElementById('file-path-Landuse').value = file.name;\n                                }\n                            };\n                            input.click();\n                        };\n                    ",
      "text/plain": [
       "<IPython.core.display.Javascript object>"
      ]
     },
     "metadata": {},
     "output_type": "display_data"
    },
    {
     "data": {
      "application/javascript": "\n                        document.getElementById('select-Soil').onclick = function() {\n                            const input = document.createElement('input');\n                            input.type = 'file';\n                            input.onchange = function(e) {\n                                const file = e.target.files[0];\n                                if (file) {\n                                    document.getElementById('file-path-Soil').value = file.name;\n                                }\n                            };\n                            input.click();\n                        };\n                    ",
      "text/plain": [
       "<IPython.core.display.Javascript object>"
      ]
     },
     "metadata": {},
     "output_type": "display_data"
    },
    {
     "data": {
      "application/javascript": "\n                        document.getElementById('select-Station').onclick = function() {\n                            const input = document.createElement('input');\n                            input.type = 'file';\n                            input.onchange = function(e) {\n                                const file = e.target.files[0];\n                                if (file) {\n                                    document.getElementById('file-path-Station').value = file.name;\n                                }\n                            };\n                            input.click();\n                        };\n                    ",
      "text/plain": [
       "<IPython.core.display.Javascript object>"
      ]
     },
     "metadata": {},
     "output_type": "display_data"
    },
    {
     "data": {
      "application/javascript": "\n                        document.getElementById('select-PCP').onclick = function() {\n                            const input = document.createElement('input');\n                            input.type = 'file';\n                            input.onchange = function(e) {\n                                const file = e.target.files[0];\n                                if (file) {\n                                    document.getElementById('file-path-PCP').value = file.name;\n                                }\n                            };\n                            input.click();\n                        };\n                    ",
      "text/plain": [
       "<IPython.core.display.Javascript object>"
      ]
     },
     "metadata": {},
     "output_type": "display_data"
    },
    {
     "data": {
      "application/javascript": "\n                        document.getElementById('select-WeatherGenerator').onclick = function() {\n                            const input = document.createElement('input');\n                            input.type = 'file';\n                            input.onchange = function(e) {\n                                const file = e.target.files[0];\n                                if (file) {\n                                    document.getElementById('file-path-WeatherGenerator').value = file.name;\n                                }\n                            };\n                            input.click();\n                        };\n                    ",
      "text/plain": [
       "<IPython.core.display.Javascript object>"
      ]
     },
     "metadata": {},
     "output_type": "display_data"
    },
    {
     "data": {
      "application/javascript": "\n                        document.getElementById('select-TMP').onclick = function() {\n                            const input = document.createElement('input');\n                            input.type = 'file';\n                            input.onchange = function(e) {\n                                const file = e.target.files[0];\n                                if (file) {\n                                    document.getElementById('file-path-TMP').value = file.name;\n                                }\n                            };\n                            input.click();\n                        };\n                    ",
      "text/plain": [
       "<IPython.core.display.Javascript object>"
      ]
     },
     "metadata": {},
     "output_type": "display_data"
    },
    {
     "data": {
      "application/javascript": "\n                        document.getElementById('select-MinumParameter').onclick = function() {\n                            const input = document.createElement('input');\n                            input.type = 'file';\n                            input.onchange = function(e) {\n                                const file = e.target.files[0];\n                                if (file) {\n                                    document.getElementById('file-path-MinumParameter').value = file.name;\n                                }\n                            };\n                            input.click();\n                        };\n                    ",
      "text/plain": [
       "<IPython.core.display.Javascript object>"
      ]
     },
     "metadata": {},
     "output_type": "display_data"
    },
    {
     "data": {
      "application/javascript": "\n                        document.getElementById('select-TimeSpan').onclick = function() {\n                            const input = document.createElement('input');\n                            input.type = 'file';\n                            input.onchange = function(e) {\n                                const file = e.target.files[0];\n                                if (file) {\n                                    document.getElementById('file-path-TimeSpan').value = file.name;\n                                }\n                            };\n                            input.click();\n                        };\n                    ",
      "text/plain": [
       "<IPython.core.display.Javascript object>"
      ]
     },
     "metadata": {},
     "output_type": "display_data"
    },
    {
     "data": {
      "application/javascript": "\n                        document.getElementById('select-SlopeLimitation').onclick = function() {\n                            const input = document.createElement('input');\n                            input.type = 'file';\n                            input.onchange = function(e) {\n                                const file = e.target.files[0];\n                                if (file) {\n                                    document.getElementById('file-path-SlopeLimitation').value = file.name;\n                                }\n                            };\n                            input.click();\n                        };\n                    ",
      "text/plain": [
       "<IPython.core.display.Javascript object>"
      ]
     },
     "metadata": {},
     "output_type": "display_data"
    },
    {
     "data": {
      "application/javascript": "\n                        document.getElementById('select-Rainfall_Runoff_Routine').onclick = function() {\n                            const input = document.createElement('input');\n                            input.type = 'file';\n                            input.onchange = function(e) {\n                                const file = e.target.files[0];\n                                if (file) {\n                                    document.getElementById('file-path-Rainfall_Runoff_Routine').value = file.name;\n                                }\n                            };\n                            input.click();\n                        };\n                    ",
      "text/plain": [
       "<IPython.core.display.Javascript object>"
      ]
     },
     "metadata": {},
     "output_type": "display_data"
    },
    {
     "data": {
      "application/javascript": "\n                        document.getElementById('select-Rainfall_Distribution').onclick = function() {\n                            const input = document.createElement('input');\n                            input.type = 'file';\n                            input.onchange = function(e) {\n                                const file = e.target.files[0];\n                                if (file) {\n                                    document.getElementById('file-path-Rainfall_Distribution').value = file.name;\n                                }\n                            };\n                            input.click();\n                        };\n                    ",
      "text/plain": [
       "<IPython.core.display.Javascript object>"
      ]
     },
     "metadata": {},
     "output_type": "display_data"
    },
    {
     "data": {
      "application/javascript": "\n                        document.getElementById('select-Potentail_ET_Method').onclick = function() {\n                            const input = document.createElement('input');\n                            input.type = 'file';\n                            input.onchange = function(e) {\n                                const file = e.target.files[0];\n                                if (file) {\n                                    document.getElementById('file-path-Potentail_ET_Method').value = file.name;\n                                }\n                            };\n                            input.click();\n                        };\n                    ",
      "text/plain": [
       "<IPython.core.display.Javascript object>"
      ]
     },
     "metadata": {},
     "output_type": "display_data"
    },
    {
     "data": {
      "application/javascript": "\n                        document.getElementById('select-Printout_Frequently').onclick = function() {\n                            const input = document.createElement('input');\n                            input.type = 'file';\n                            input.onchange = function(e) {\n                                const file = e.target.files[0];\n                                if (file) {\n                                    document.getElementById('file-path-Printout_Frequently').value = file.name;\n                                }\n                            };\n                            input.click();\n                        };\n                    ",
      "text/plain": [
       "<IPython.core.display.Javascript object>"
      ]
     },
     "metadata": {},
     "output_type": "display_data"
    },
    {
     "data": {
      "application/javascript": "\n                        document.getElementById('select-SummeryType').onclick = function() {\n                            const input = document.createElement('input');\n                            input.type = 'file';\n                            input.onchange = function(e) {\n                                const file = e.target.files[0];\n                                if (file) {\n                                    document.getElementById('file-path-SummeryType').value = file.name;\n                                }\n                            };\n                            input.click();\n                        };\n                    ",
      "text/plain": [
       "<IPython.core.display.Javascript object>"
      ]
     },
     "metadata": {},
     "output_type": "display_data"
    },
    {
     "data": {
      "application/vnd.jupyter.widget-view+json": {
       "model_id": "0742c52bc49440cab049590e7eb33cd9",
       "version_major": 2,
       "version_minor": 0
      },
      "text/plain": [
       "VBox(children=(HTML(value='\\n        <style>\\n            .model-container {\\n                padding: 20px;\\n…"
      ]
     },
     "metadata": {},
     "output_type": "display_data"
    }
   ],
   "source": [
    "import importlib\n",
    "import ogmsgui\n",
    "importlib.reload(ogmsgui)\n",
    "from ogmsgui import ModelGUI\n",
    "\n",
    "gui = ModelGUI()\n",
    "gui.show_model(\"SWAT_Model\")"
   ]
  },
  {
   "cell_type": "code",
   "execution_count": null,
   "metadata": {},
   "outputs": [
    {
     "data": {
      "application/vnd.jupyter.widget-view+json": {
       "model_id": "c476d3b09aba452db36e6cdb84ed5322",
       "version_major": 2,
       "version_minor": 0
      },
      "text/plain": [
       "VBox(children=(HTML(value='\\n        <style>\\n            .model-container {\\n                padding: 20px;\\n…"
      ]
     },
     "metadata": {},
     "output_type": "display_data"
    }
   ],
   "source": []
  },
  {
   "cell_type": "code",
   "execution_count": null,
   "metadata": {},
   "outputs": [
    {
     "data": {
      "application/vnd.jupyter.widget-view+json": {
       "model_id": "c476d3b09aba452db36e6cdb84ed5322",
       "version_major": 2,
       "version_minor": 0
      },
      "text/plain": [
       "VBox(children=(HTML(value='\\n        <style>\\n            .model-container {\\n                padding: 20px;\\n…"
      ]
     },
     "metadata": {},
     "output_type": "display_data"
    }
   ],
   "source": []
  },
  {
   "cell_type": "code",
   "execution_count": null,
   "metadata": {},
   "outputs": [
    {
     "data": {
      "application/vnd.jupyter.widget-view+json": {
       "model_id": "c476d3b09aba452db36e6cdb84ed5322",
       "version_major": 2,
       "version_minor": 0
      },
      "text/plain": [
       "VBox(children=(HTML(value='\\n        <style>\\n            .model-container {\\n                padding: 20px;\\n…"
      ]
     },
     "metadata": {},
     "output_type": "display_data"
    }
   ],
   "source": []
  },
  {
   "cell_type": "code",
   "execution_count": null,
   "metadata": {},
   "outputs": [
    {
     "data": {
      "application/vnd.jupyter.widget-view+json": {
       "model_id": "c476d3b09aba452db36e6cdb84ed5322",
       "version_major": 2,
       "version_minor": 0
      },
      "text/plain": [
       "VBox(children=(HTML(value='\\n        <style>\\n            .model-container {\\n                padding: 20px;\\n…"
      ]
     },
     "metadata": {},
     "output_type": "display_data"
    }
   ],
   "source": []
  },
  {
   "cell_type": "code",
   "execution_count": null,
   "metadata": {},
   "outputs": [
    {
     "data": {
      "application/vnd.jupyter.widget-view+json": {
       "model_id": "c476d3b09aba452db36e6cdb84ed5322",
       "version_major": 2,
       "version_minor": 0
      },
      "text/plain": [
       "VBox(children=(HTML(value='\\n        <style>\\n            .model-container {\\n                padding: 20px;\\n…"
      ]
     },
     "metadata": {},
     "output_type": "display_data"
    }
   ],
   "source": []
  },
  {
   "cell_type": "code",
   "execution_count": null,
   "metadata": {},
   "outputs": [
    {
     "data": {
      "application/vnd.jupyter.widget-view+json": {
       "model_id": "c476d3b09aba452db36e6cdb84ed5322",
       "version_major": 2,
       "version_minor": 0
      },
      "text/plain": [
       "VBox(children=(HTML(value='\\n        <style>\\n            .model-container {\\n                padding: 20px;\\n…"
      ]
     },
     "metadata": {},
     "output_type": "display_data"
    }
   ],
   "source": []
  },
  {
   "cell_type": "code",
   "execution_count": null,
   "metadata": {},
   "outputs": [
    {
     "data": {
      "application/vnd.jupyter.widget-view+json": {
       "model_id": "c476d3b09aba452db36e6cdb84ed5322",
       "version_major": 2,
       "version_minor": 0
      },
      "text/plain": [
       "VBox(children=(HTML(value='\\n        <style>\\n            .model-container {\\n                padding: 20px;\\n…"
      ]
     },
     "metadata": {},
     "output_type": "display_data"
    }
   ],
   "source": []
  },
  {
   "cell_type": "code",
   "execution_count": null,
   "metadata": {},
   "outputs": [
    {
     "data": {
      "application/vnd.jupyter.widget-view+json": {
       "model_id": "c476d3b09aba452db36e6cdb84ed5322",
       "version_major": 2,
       "version_minor": 0
      },
      "text/plain": [
       "VBox(children=(HTML(value='\\n        <style>\\n            .model-container {\\n                padding: 20px;\\n…"
      ]
     },
     "metadata": {},
     "output_type": "display_data"
    }
   ],
   "source": []
  },
  {
   "cell_type": "code",
   "execution_count": null,
   "metadata": {},
   "outputs": [
    {
     "data": {
      "application/vnd.jupyter.widget-view+json": {
       "model_id": "c476d3b09aba452db36e6cdb84ed5322",
       "version_major": 2,
       "version_minor": 0
      },
      "text/plain": [
       "VBox(children=(HTML(value='\\n        <style>\\n            .model-container {\\n                padding: 20px;\\n…"
      ]
     },
     "metadata": {},
     "output_type": "display_data"
    }
   ],
   "source": []
  },
  {
   "cell_type": "code",
   "execution_count": null,
   "metadata": {},
   "outputs": [
    {
     "data": {
      "application/vnd.jupyter.widget-view+json": {
       "model_id": "c476d3b09aba452db36e6cdb84ed5322",
       "version_major": 2,
       "version_minor": 0
      },
      "text/plain": [
       "VBox(children=(HTML(value='\\n        <style>\\n            .model-container {\\n                padding: 20px;\\n…"
      ]
     },
     "metadata": {},
     "output_type": "display_data"
    }
   ],
   "source": []
  },
  {
   "cell_type": "code",
   "execution_count": null,
   "metadata": {},
   "outputs": [],
   "source": []
  },
  {
   "cell_type": "code",
   "execution_count": null,
   "metadata": {},
   "outputs": [],
   "source": []
  }
 ],
 "metadata": {
  "kernelspec": {
   "display_name": "Python notebook",
   "language": "python",
   "name": "notebook"
  },
  "language_info": {
   "codemirror_mode": {
    "name": "ipython",
    "version": 3
   },
   "file_extension": ".py",
   "mimetype": "text/x-python",
   "name": "python",
   "nbconvert_exporter": "python",
   "pygments_lexer": "ipython3",
   "version": "3.9.20"
  }
 },
 "nbformat": 4,
 "nbformat_minor": 2
}
